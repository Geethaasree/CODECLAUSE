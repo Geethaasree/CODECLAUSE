{
 "cells": [
  {
   "cell_type": "code",
   "execution_count": null,
   "id": "7ee87669-48b5-45bf-8bd0-f88655eab709",
   "metadata": {},
   "outputs": [
    {
     "name": "stdout",
     "output_type": "stream",
     "text": [
      "Adjusting for ambient noise, please wait...\n"
     ]
    }
   ],
   "source": [
    "import speech_recognition as sr\n",
    "\n",
    "def recognize_speech_from_mic():\n",
    "    # Initialize recognizer class (for recognizing the speech)\n",
    "    recognizer = sr.Recognizer()\n",
    "\n",
    "    # Use the microphone as source for input.\n",
    "    with sr.Microphone() as source:\n",
    "        print(\"Adjusting for ambient noise, please wait...\")\n",
    "        recognizer.adjust_for_ambient_noise(source, duration=1)\n",
    "        print(\"Listening for your speech...\")\n",
    "\n",
    "        # Listen for the first phrase and extract it into audio data\n",
    "        audio_data = recognizer.listen(source)\n",
    "        print(\"Recognizing your speech...\")\n",
    "\n",
    "        # Recognize (convert from speech to text)\n",
    "        try:\n",
    "            text = recognizer.recognize_google(audio_data)\n",
    "            print(f\"You said: {text}\")\n",
    "            respond_to_speech(text)\n",
    "        except sr.UnknownValueError:\n",
    "            print(\"Sorry, I could not understand the audio.\")\n",
    "        except sr.RequestError:\n",
    "            print(\"Sorry, my speech service is down.\")\n",
    "\n",
    "def respond_to_speech(text):\n",
    "    # Simple response mechanism\n",
    "    if \"hello\" in text.lower():\n",
    "        print(\"Hi there! How can I help you today?\")\n",
    "    elif \"how are you\" in text.lower():\n",
    "        print(\"I'm just a program, but I'm here to help you!\")\n",
    "    else:\n",
    "        print(\"You said something I didn't expect, but I'm listening!\")\n",
    "\n",
    "if __name__ == \"__main__\":\n",
    "    recognize_speech_from_mic()"
   ]
  },
  {
   "cell_type": "code",
   "execution_count": null,
   "id": "d83676d0-08c8-45ce-9485-9101c53f21f7",
   "metadata": {},
   "outputs": [],
   "source": []
  }
 ],
 "metadata": {
  "kernelspec": {
   "display_name": "Python 3 (ipykernel)",
   "language": "python",
   "name": "python3"
  },
  "language_info": {
   "codemirror_mode": {
    "name": "ipython",
    "version": 3
   },
   "file_extension": ".py",
   "mimetype": "text/x-python",
   "name": "python",
   "nbconvert_exporter": "python",
   "pygments_lexer": "ipython3",
   "version": "3.11.7"
  }
 },
 "nbformat": 4,
 "nbformat_minor": 5
}
