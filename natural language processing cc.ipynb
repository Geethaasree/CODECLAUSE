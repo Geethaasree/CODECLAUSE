{
 "cells": [
  {
   "cell_type": "code",
   "execution_count": 5,
   "id": "160bda15-84c5-477e-80c8-f686878c6123",
   "metadata": {},
   "outputs": [
    {
     "name": "stderr",
     "output_type": "stream",
     "text": [
      "No model was supplied, defaulted to sshleifer/distilbart-cnn-12-6 and revision a4f8f3e (https://huggingface.co/sshleifer/distilbart-cnn-12-6).\n",
      "Using a pipeline without specifying a model name and revision in production is not recommended.\n",
      "Your max_length is set to 130, but your input_length is only 41. Since this is a summarization task, where outputs shorter than the input are typically wanted, you might consider decreasing max_length manually, e.g. summarizer('...', max_length=20)\n"
     ]
    },
    {
     "name": "stdout",
     "output_type": "stream",
     "text": [
      "Clause 1 Summary:\n",
      " Service provider agrees to provide graphic design services as requested by client . fee: refers to the compensation for services as outlined in section 4 . Service provider agree to provide design services to client requests .\n",
      "\n",
      "\n"
     ]
    }
   ],
   "source": [
    "import spacy\n",
    "import os \n",
    "from transformers import pipeline\n",
    "nlp = spacy.load(\"en_core_web_sm\")\n",
    "summarizer = pipeline(\"summarization\")\n",
    "def extract_clauses(text):\n",
    "    doc = nlp(text)\n",
    "    clauses = []\n",
    "    for sent in doc.sents:\n",
    "        if \"section\" in sent.text.lower() or \"clause\" in sent.text.lower():\n",
    "            clauses.append(sent.text)\n",
    "    return clauses\n",
    "\n",
    "def summarize_clauses(clauses):\n",
    "    summaries = []\n",
    "    for clause in clauses:\n",
    "        summary = summarizer(clause, max_length=130, min_length=30, do_sample=False)\n",
    "        summaries.append(summary[0]['summary_text'])\n",
    "    return summaries\n",
    "def main():\n",
    "    current_dir = os.getcwd()\n",
    "    file_path = os.path.join(\"C://Users//koner//legal_document.txt\")\n",
    "\n",
    "    try:\n",
    "        with open(file_path, 'r') as file:\n",
    "            text = file.read().lower()  \n",
    "\n",
    "    except FileNotFoundError:\n",
    "        print(f\"File not found: {file_path}\")\n",
    "        return\n",
    "    \n",
    "    clauses = extract_clauses(text)\n",
    "\n",
    "    if not clauses:\n",
    "        print(\"No clauses found in the document.\")\n",
    "        return\n",
    "\n",
    "    summaries = summarize_clauses(clauses)\n",
    "    for i, summary in enumerate(summaries):\n",
    "        print(f\"Clause {i+1} Summary:\")\n",
    "        print(summary)\n",
    "        print(\"\\n\")\n",
    "\n",
    "if __name__ == \"__main__\":\n",
    "    main()"
   ]
  },
  {
   "cell_type": "code",
   "execution_count": 4,
   "id": "82c0b89a-0614-4dc9-a052-ebb6a70c7a10",
   "metadata": {},
   "outputs": [
    {
     "name": "stdout",
     "output_type": "stream",
     "text": [
      "C:\\Users\\koner\n"
     ]
    }
   ],
   "source": [
    "import os \n",
    "cdir=os.getcwd()\n",
    "print(cdir)"
   ]
  },
  {
   "cell_type": "code",
   "execution_count": 8,
   "id": "f591a25a-b224-4b3a-9f18-a0b58714c126",
   "metadata": {},
   "outputs": [
    {
     "name": "stdout",
     "output_type": "stream",
     "text": [
      "Clause 1 Summary:\n",
      " Service Provider agrees to provide graphic design services as requested by Client . Fee: Refers to the compensation for Services as outlined in Section 4 . Main Provisions: (graphic design)\n",
      "\n",
      "\n"
     ]
    }
   ],
   "source": [
    "import spacy\n",
    "import os\n",
    "from transformers import pipeline\n",
    "\n",
    "# Load the Spacy model and summarizer\n",
    "nlp = spacy.load(\"en_core_web_sm\")\n",
    "summarizer = pipeline(\"summarization\", model=\"sshleifer/distilbart-cnn-12-6\")\n",
    "\n",
    "# Function to extract clauses from the text\n",
    "def extract_clauses(text):\n",
    "    doc = nlp(text)\n",
    "    clauses = []\n",
    "    for sent in doc.sents:\n",
    "        if \"section\" in sent.text.lower() or \"clause\" in sent.text.lower():\n",
    "            clauses.append(sent.text)\n",
    "    return clauses\n",
    "\n",
    "# Function to summarize the extracted clauses\n",
    "def summarize_clauses(clauses):\n",
    "    summaries = []\n",
    "    for clause in clauses:\n",
    "        input_length = len(clause.split())\n",
    "        max_len = min(input_length, 130)\n",
    "        summary = summarizer(clause, max_length=40, min_length=39, do_sample=False)\n",
    "        summaries.append(summary[0]['summary_text'])\n",
    "    return summaries\n",
    "\n",
    "# Main function to read the file, extract clauses, and summarize them\n",
    "def main():\n",
    "    current_dir = os.getcwd()\n",
    "    file_path = os.path.join(\"C://Users//koner//legal_document.txt\")  # Adjusted to a more standard relative path\n",
    "\n",
    "    try:\n",
    "        with open(file_path, 'r') as file:\n",
    "            text = file.read()  # Reading the file content\n",
    "\n",
    "    except FileNotFoundError:\n",
    "        print(f\"File not found: {file_path}\")\n",
    "        return\n",
    "    \n",
    "    clauses = extract_clauses(text)\n",
    "\n",
    "    if not clauses:\n",
    "        print(\"No clauses found in the document.\")\n",
    "        return\n",
    "\n",
    "    summaries = summarize_clauses(clauses)\n",
    "    for i, summary in enumerate(summaries):\n",
    "        print(f\"Clause {i+1} Summary:\")\n",
    "        print(summary)\n",
    "        print(\"\\n\")\n",
    "\n",
    "if __name__ == \"__main__\":\n",
    "    main()\n"
   ]
  },
  {
   "cell_type": "code",
   "execution_count": null,
   "id": "afb54224-beff-4446-9c91-66b0345b01bd",
   "metadata": {},
   "outputs": [],
   "source": []
  }
 ],
 "metadata": {
  "kernelspec": {
   "display_name": "Python 3 (ipykernel)",
   "language": "python",
   "name": "python3"
  },
  "language_info": {
   "codemirror_mode": {
    "name": "ipython",
    "version": 3
   },
   "file_extension": ".py",
   "mimetype": "text/x-python",
   "name": "python",
   "nbconvert_exporter": "python",
   "pygments_lexer": "ipython3",
   "version": "3.11.7"
  }
 },
 "nbformat": 4,
 "nbformat_minor": 5
}
