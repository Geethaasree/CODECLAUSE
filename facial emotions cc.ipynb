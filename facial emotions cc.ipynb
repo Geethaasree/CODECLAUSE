{
 "cells": [
  {
   "cell_type": "code",
   "execution_count": 2,
   "id": "e5b84238-3887-4f66-9417-9b8795af0e80",
   "metadata": {},
   "outputs": [
    {
     "name": "stdout",
     "output_type": "stream",
     "text": [
      "Press 'q' to quit.\n"
     ]
    }
   ],
   "source": [
    "import cv2\n",
    "from deepface import DeepFace\n",
    "\n",
    "# Load the face detection classifier\n",
    "classifier = cv2.CascadeClassifier(\"C://Users//koner//Downloads//facial emotions detection//haarcascade_frontalface_default.xml\")\n",
    "\n",
    "# Initialize the video capture\n",
    "cap = cv2.VideoCapture(0)\n",
    "\n",
    "# Check if the camera opened successfully\n",
    "if not cap.isOpened():\n",
    "    print(\"Error: Could not open video device.\")\n",
    "else:\n",
    "    print(\"Press 'q' to quit.\")\n",
    "    \n",
    "    # While loop will continuously capture the video\n",
    "    while True:\n",
    "        # Capture frame-by-frame\n",
    "        rec, frame = cap.read()\n",
    "\n",
    "        # Check if frame was captured successfully\n",
    "        if not rec:\n",
    "            print(\"Error: Could not read frame.\")\n",
    "            break\n",
    "\n",
    "        # Convert the frame to grayscale\n",
    "        gray = cv2.cvtColor(frame, cv2.COLOR_BGR2GRAY)\n",
    "\n",
    "        # Detect faces in the frame\n",
    "        detections = classifier.detectMultiScale(gray, 1.3, 5)\n",
    "\n",
    "        # Analyze detected faces for emotion\n",
    "        if len(detections) > 0:\n",
    "            (x, y, w, h) = detections[0]\n",
    "            face = frame[y:y+h, x:x+w]\n",
    "            try:\n",
    "                response = DeepFace.analyze(face, actions=(\"emotion\",), enforce_detection=False)\n",
    "\n",
    "                # Ensure response is not a list\n",
    "                if isinstance(response, list):\n",
    "                    response = response[0]\n",
    "\n",
    "                # Store the all emotion prediction with their percentage of accuracy\n",
    "                emotionPredPer = response['emotion']\n",
    "\n",
    "                # Extract the dominant value of emotion\n",
    "                dominantEmotion = response['dominant_emotion']\n",
    "\n",
    "                # Display the dominant emotion on the frame\n",
    "                cv2.putText(frame, text=dominantEmotion, org=(x, y-10), fontFace=cv2.FONT_HERSHEY_COMPLEX, fontScale=1, color=(0, 0, 255))\n",
    "\n",
    "                # Draw rectangle around the face\n",
    "                new_frame = cv2.rectangle(frame, (x, y), (x+w, y+h), (255, 0, 0), 2)\n",
    "            except Exception as e:\n",
    "                print(f\"Error analyzing face: {e}\")\n",
    "\n",
    "        # Display instruction to quit\n",
    "        cv2.putText(frame, text=\"Press 'q' to quit.\", org=(20, 20), fontFace=cv2.FONT_HERSHEY_COMPLEX, fontScale=1, color=(0, 0, 255))\n",
    "\n",
    "        # Display the resulting frame\n",
    "        cv2.imshow('Emotion Detection', frame)\n",
    "\n",
    "        # Break the loop on 'q' key press\n",
    "        if cv2.waitKey(1) & 0xFF == ord('q'):\n",
    "            break\n",
    "\n",
    "    # When everything is done, release the capture\n",
    "    cap.release()\n",
    "    cv2.destroyAllWindows()\n"
   ]
  },
  {
   "cell_type": "code",
   "execution_count": null,
   "id": "a434678c-384d-4bb7-9999-cabf89af5603",
   "metadata": {},
   "outputs": [],
   "source": []
  }
 ],
 "metadata": {
  "kernelspec": {
   "display_name": "Python 3 (ipykernel)",
   "language": "python",
   "name": "python3"
  },
  "language_info": {
   "codemirror_mode": {
    "name": "ipython",
    "version": 3
   },
   "file_extension": ".py",
   "mimetype": "text/x-python",
   "name": "python",
   "nbconvert_exporter": "python",
   "pygments_lexer": "ipython3",
   "version": "3.11.7"
  }
 },
 "nbformat": 4,
 "nbformat_minor": 5
}
